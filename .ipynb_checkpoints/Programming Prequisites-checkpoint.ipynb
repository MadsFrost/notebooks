{
 "cells": [
  {
   "cell_type": "markdown",
   "id": "25868738",
   "metadata": {},
   "source": [
    "# 1. Calculation\n",
    "Write a function sub that given two integers a and b returns a − b."
   ]
  },
  {
   "cell_type": "code",
   "execution_count": 1,
   "id": "4c9fa4f9",
   "metadata": {},
   "outputs": [
    {
     "data": {
      "text/plain": [
       "1"
      ]
     },
     "execution_count": 1,
     "metadata": {},
     "output_type": "execute_result"
    }
   ],
   "source": [
    "def sub(a,b):\n",
    "    return a-b;\n",
    "sub(2,1) # Should return 1"
   ]
  },
  {
   "cell_type": "markdown",
   "id": "512f568d",
   "metadata": {},
   "source": [
    "# 2. Cut-off"
   ]
  },
  {
   "cell_type": "code",
   "execution_count": 2,
   "id": "a9ebd321",
   "metadata": {},
   "outputs": [
    {
     "data": {
      "text/plain": [
       "[1, 2, 3, 3, 3]"
      ]
     },
     "execution_count": 2,
     "metadata": {},
     "output_type": "execute_result"
    }
   ],
   "source": [
    "def cut_off(arr, k):\n",
    "    replaced_arr = [k if x > k else x for x in arr]\n",
    "    return replaced_arr\n",
    "cut_off([1,2,3,4,5], 3) # Should return [1,2,3,3,3]"
   ]
  },
  {
   "cell_type": "markdown",
   "id": "85359c7a",
   "metadata": {},
   "source": [
    "# 3. Input and Output"
   ]
  },
  {
   "cell_type": "markdown",
   "id": "2522721c",
   "metadata": {},
   "source": [
    "## 3.1 \n",
    "Write a program print that outputs Hey World to the console (ie. to stdout)."
   ]
  },
  {
   "cell_type": "code",
   "execution_count": 3,
   "id": "8cb987d7",
   "metadata": {},
   "outputs": [
    {
     "name": "stdout",
     "output_type": "stream",
     "text": [
      "Hey World\n"
     ]
    }
   ],
   "source": [
    "print(\"Hey World\");"
   ]
  },
  {
   "cell_type": "markdown",
   "id": "40f3463c",
   "metadata": {},
   "source": [
    "# 3.2\n",
    " Extend the program to take a string s as command line argument and output Hey followed by s."
   ]
  },
  {
   "cell_type": "code",
   "execution_count": 4,
   "id": "d5e472c0",
   "metadata": {},
   "outputs": [
    {
     "name": "stdout",
     "output_type": "stream",
     "text": [
      "1\n",
      "1\n"
     ]
    }
   ],
   "source": [
    "s = input(\"\")\n",
    "print(s)"
   ]
  },
  {
   "cell_type": "markdown",
   "id": "7f4bce58",
   "metadata": {},
   "source": [
    "# 3.3\n",
    "Write a program interaction that reads a string s from the console (stdin) and outputs Hey followed by s."
   ]
  },
  {
   "cell_type": "code",
   "execution_count": 5,
   "id": "f476122b",
   "metadata": {},
   "outputs": [
    {
     "name": "stdout",
     "output_type": "stream",
     "text": [
      "1\n",
      "Hey 1\n"
     ]
    }
   ],
   "source": [
    "s = input(\"\")\n",
    "print(\"Hey %s\" % s)"
   ]
  },
  {
   "cell_type": "markdown",
   "id": "43e10d03",
   "metadata": {},
   "source": [
    "# 4. Sum\n",
    "Write a function sum that takes a positive integer x as argument and returns the sum"
   ]
  },
  {
   "cell_type": "code",
   "execution_count": 27,
   "id": "96e329ff",
   "metadata": {},
   "outputs": [
    {
     "name": "stdout",
     "output_type": "stream",
     "text": [
      "1\n",
      "3\n",
      "6\n",
      "10\n",
      "15\n"
     ]
    },
    {
     "data": {
      "text/plain": [
       "15"
      ]
     },
     "execution_count": 27,
     "metadata": {},
     "output_type": "execute_result"
    }
   ],
   "source": [
    "def _sum(x):\n",
    "    count = 0\n",
    "    for i in range(x):\n",
    "        count += i+1\n",
    "        print(count)\n",
    "    return count\n",
    "_sum(5)"
   ]
  },
  {
   "cell_type": "markdown",
   "id": "01dee862",
   "metadata": {},
   "source": [
    "# 5. Order Check\n",
    "Write a function inorder that takes three integers a, b and c as arguments and returns true if the\n",
    "values are in strictly increasing or strictly decreasing order (ie. a < b < c or a > b > c) and otherwise false."
   ]
  },
  {
   "cell_type": "code",
   "execution_count": null,
   "id": "c9994733",
   "metadata": {},
   "outputs": [],
   "source": [
    "def inorder(a,b,c):\n",
    "    if (a < b & b < c or a > b & b > c):\n",
    "        return True\n",
    "    else:\n",
    "        return False\n",
    "print(inorder(3,2,1))\n",
    "print(inorder(1,2,3))"
   ]
  },
  {
   "cell_type": "markdown",
   "id": "9e581e9e",
   "metadata": {},
   "source": [
    "# 6. Exchange of Elements"
   ]
  },
  {
   "cell_type": "markdown",
   "id": "591a9f3c",
   "metadata": {},
   "source": [
    "## 6.1 \n",
    "Write a function swap that given an array A and two indexes i and j exchanges the elements on index i and j in A.\n",
    "Output the elements of A before and after the exchange."
   ]
  },
  {
   "cell_type": "code",
   "execution_count": 48,
   "id": "d8fba14f",
   "metadata": {},
   "outputs": [
    {
     "data": {
      "text/plain": [
       "[1, 3, 2]"
      ]
     },
     "execution_count": 48,
     "metadata": {},
     "output_type": "execute_result"
    }
   ],
   "source": [
    "def swap(arr, i, j):\n",
    "    newArr = []\n",
    "    for k, p in enumerate(arr):\n",
    "        if (p == i):\n",
    "            newArr.append(arr[j-1])\n",
    "        elif (p == j):\n",
    "            newArr.append(arr[i-1])\n",
    "        else:\n",
    "            newArr.append(arr[p-1])\n",
    "    return newArr\n",
    "swap([1,2,3], 2, 3)"
   ]
  },
  {
   "cell_type": "markdown",
   "id": "a6d9aed3",
   "metadata": {},
   "source": [
    "## 6.2\n",
    "Write a function reverse that given an array A reverses the order of the elements in A."
   ]
  },
  {
   "cell_type": "code",
   "execution_count": 64,
   "id": "c8456857",
   "metadata": {},
   "outputs": [
    {
     "data": {
      "text/plain": [
       "[3, 2, 1]"
      ]
     },
     "execution_count": 64,
     "metadata": {},
     "output_type": "execute_result"
    }
   ],
   "source": [
    "def reverse(arr):\n",
    "    count = len(arr) - 1\n",
    "    newArr = []\n",
    "    while (count):\n",
    "        newArr.append(arr[count])\n",
    "        count -= 1\n",
    "    newArr.append(arr[0])\n",
    "    return newArr\n",
    "reverse([1,2,3])"
   ]
  },
  {
   "cell_type": "markdown",
   "id": "2c15ae2f",
   "metadata": {},
   "source": [
    "# 7. Distance\n",
    "Write a function dist that given two numbers x and y returns the (euclidean) distance between the\n",
    "origin (0, 0) and (x, y) in the plane."
   ]
  },
  {
   "cell_type": "code",
   "execution_count": 67,
   "id": "3f9b4212",
   "metadata": {},
   "outputs": [
    {
     "data": {
      "text/plain": [
       "1.0"
      ]
     },
     "execution_count": 67,
     "metadata": {},
     "output_type": "execute_result"
    }
   ],
   "source": [
    "import numpy as np\n",
    "def dist(x,y): \n",
    "    return np.sqrt(np.sum(np.square(x-y)))\n",
    "dist(2,3)"
   ]
  },
  {
   "cell_type": "markdown",
   "id": "9be8f008",
   "metadata": {},
   "source": [
    "# 8. Three Sort\n",
    "Write a function sort that given three integers a, b and c outputs the integers in order. Use Math.min()\n",
    "and Math.max() (or equivalent in the language you use)."
   ]
  },
  {
   "cell_type": "code",
   "execution_count": 84,
   "id": "b6846b40",
   "metadata": {},
   "outputs": [
    {
     "data": {
      "text/plain": [
       "[10, 30, 30]"
      ]
     },
     "execution_count": 84,
     "metadata": {},
     "output_type": "execute_result"
    }
   ],
   "source": [
    "import math\n",
    "def sort(a,b,c):\n",
    "    items = [a,b,c]\n",
    "    _min = min(items)\n",
    "    _mid = None\n",
    "    _max = max(items)\n",
    "    for i in items:\n",
    "        if (i != _min or i != _max):\n",
    "            _mid = i\n",
    "    return [_min, _mid, _max]\n",
    "a = 10\n",
    "b = 20\n",
    "c = 30\n",
    "sort(a,b,c)"
   ]
  }
 ],
 "metadata": {
  "kernelspec": {
   "display_name": "Python 3 (ipykernel)",
   "language": "python",
   "name": "python3"
  },
  "language_info": {
   "codemirror_mode": {
    "name": "ipython",
    "version": 3
   },
   "file_extension": ".py",
   "mimetype": "text/x-python",
   "name": "python",
   "nbconvert_exporter": "python",
   "pygments_lexer": "ipython3",
   "version": "3.9.6"
  }
 },
 "nbformat": 4,
 "nbformat_minor": 5
}
